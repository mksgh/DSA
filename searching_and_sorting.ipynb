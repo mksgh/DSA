{
 "cells": [
  {
   "cell_type": "code",
   "execution_count": 7,
   "id": "419f592e",
   "metadata": {},
   "outputs": [],
   "source": [
    "import random\n",
    "import time"
   ]
  },
  {
   "cell_type": "code",
   "execution_count": null,
   "id": "1e0cedf2",
   "metadata": {},
   "outputs": [
    {
     "data": {
      "text/plain": [
       "-1"
      ]
     },
     "execution_count": 1,
     "metadata": {},
     "output_type": "execute_result"
    }
   ],
   "source": [
    "# Linear Search\n",
    "# Brute Force\n",
    "\n",
    "\n",
    "def linear_search(arr, item):\n",
    "    for i in range(len(arr)):\n",
    "        if arr[i] == item:\n",
    "            return i\n",
    "\n",
    "    return -1\n",
    "\n",
    "\n",
    "arr = [12, 34, 56, 1, 67, 100, 47, 99]\n",
    "linear_search(arr, 121)"
   ]
  },
  {
   "cell_type": "code",
   "execution_count": 4,
   "id": "10796b9d",
   "metadata": {},
   "outputs": [
    {
     "name": "stdout",
     "output_type": "stream",
     "text": [
      "3\n"
     ]
    }
   ],
   "source": [
    "# Binary Search\n",
    "# Sorted Array\n",
    "\n",
    "# recurssion way\n",
    "def binary_search(arr, low, high, item):\n",
    "\n",
    "    if low <= high:\n",
    "        # search\n",
    "        mid = (low + high) // 2\n",
    "\n",
    "        # print(\"mid value is\",arr[mid])\n",
    "        if arr[mid] == item:\n",
    "            return mid\n",
    "        elif arr[mid] > item:\n",
    "            return binary_search(arr, low, mid - 1, item)\n",
    "        else:\n",
    "            return binary_search(arr, mid + 1, high, item)\n",
    "    else:\n",
    "        return -1\n",
    "    \n",
    "\n",
    "arr = [12,24,35,46,57,68,80,99,100]\n",
    "print(binary_search(arr,0,len(arr)-1,46))"
   ]
  },
  {
   "cell_type": "code",
   "execution_count": null,
   "id": "cf2b46cf",
   "metadata": {},
   "outputs": [
    {
     "data": {
      "text/plain": [
       "False"
      ]
     },
     "execution_count": 3,
     "metadata": {},
     "output_type": "execute_result"
    }
   ],
   "source": [
    "# Sorting\n",
    "\n",
    "def is_sorted(arr):\n",
    "    sorted = True\n",
    "\n",
    "    for i in range(len(arr) - 1):\n",
    "        if arr[i] > arr[i + 1]:\n",
    "            sorted = False\n",
    "\n",
    "    return sorted\n",
    "\n",
    "arr = [1,2,3,4,8,6]\n",
    "is_sorted(arr)"
   ]
  },
  {
   "cell_type": "code",
   "execution_count": null,
   "id": "811cbc73",
   "metadata": {},
   "outputs": [
    {
     "data": {
      "text/plain": [
       "[2, 4, 1, 3]"
      ]
     },
     "execution_count": 6,
     "metadata": {},
     "output_type": "execute_result"
    }
   ],
   "source": [
    "# Monkey sort\n",
    "a=[1,2,3,4]\n",
    "random.shuffle(a)\n",
    "a"
   ]
  },
  {
   "cell_type": "code",
   "execution_count": 12,
   "id": "c2e04a71",
   "metadata": {},
   "outputs": [
    {
     "name": "stdout",
     "output_type": "stream",
     "text": [
      "[56, 11, 12, 24]\n",
      "[11, 12, 56, 24]\n",
      "[11, 24, 12, 56]\n",
      "[24, 56, 12, 11]\n",
      "[56, 24, 11, 12]\n",
      "[11, 24, 56, 12]\n",
      "[12, 56, 24, 11]\n",
      "[24, 11, 56, 12]\n",
      "[56, 24, 11, 12]\n",
      "[56, 24, 11, 12]\n",
      "[56, 11, 12, 24]\n",
      "[24, 11, 12, 56]\n",
      "[24, 11, 12, 56]\n",
      "[12, 11, 56, 24]\n",
      "[12, 56, 11, 24]\n",
      "[24, 12, 11, 56]\n",
      "[12, 24, 11, 56]\n",
      "[56, 24, 12, 11]\n",
      "[24, 12, 56, 11]\n",
      "[24, 11, 56, 12]\n",
      "[11, 12, 24, 56]\n",
      "[11, 12, 24, 56]\n"
     ]
    }
   ],
   "source": [
    "def monkey_sort(arr):\n",
    "    while not is_sorted(arr):\n",
    "        time.sleep(0.1)\n",
    "        random.shuffle(arr)\n",
    "        print(arr)\n",
    "    print(arr)\n",
    "\n",
    "a = [12,24,11,56]\n",
    "monkey_sort(a)\n",
    "\n",
    "# time complexity - infinite -- beacuse its random"
   ]
  },
  {
   "cell_type": "code",
   "execution_count": null,
   "id": "9b033453",
   "metadata": {},
   "outputs": [],
   "source": [
    "# bubble sort\n",
    "def bubble_sort(arr):\n",
    "    for i in range(len(arr) - 1):\n",
    "        flag = 0\n",
    "        for j in range(len(arr) - 1 - i):\n",
    "            if arr[j] > arr[j + 1]:\n",
    "                arr[j], arr[j + 1] = arr[j + 1], arr[j]\n",
    "                flag = 1\n",
    "\n",
    "        if flag == 0:\n",
    "            break\n",
    "\n",
    "    return arr\n",
    "\n",
    "arr = [23,12,34,11,100,56,78]\n",
    "bubble_sort(arr)"
   ]
  },
  {
   "cell_type": "code",
   "execution_count": null,
   "id": "37adea3c",
   "metadata": {},
   "outputs": [],
   "source": [
    "# selection sort\n",
    "def selection_sort(arr):\n",
    "    for i in range(len(arr) - 1):\n",
    "        min = i\n",
    "\n",
    "        for j in range(i + 1, len(arr)):\n",
    "            if arr[j] < arr[min]:\n",
    "                min = j\n",
    "\n",
    "        arr[i], arr[min] = arr[min], arr[i]\n",
    "\n",
    "    return arr\n",
    "\n",
    "\n",
    "arr = [23,12,34,11,100,56,78]\n",
    "selection_sort(arr)"
   ]
  }
 ],
 "metadata": {
  "kernelspec": {
   "display_name": ".venv",
   "language": "python",
   "name": "python3"
  },
  "language_info": {
   "codemirror_mode": {
    "name": "ipython",
    "version": 3
   },
   "file_extension": ".py",
   "mimetype": "text/x-python",
   "name": "python",
   "nbconvert_exporter": "python",
   "pygments_lexer": "ipython3",
   "version": "3.12.1"
  }
 },
 "nbformat": 4,
 "nbformat_minor": 5
}
