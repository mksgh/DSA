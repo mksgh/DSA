{
 "cells": [
  {
   "cell_type": "code",
   "execution_count": 7,
   "id": "419f592e",
   "metadata": {},
   "outputs": [],
   "source": [
    "import random\n",
    "import time"
   ]
  },
  {
   "cell_type": "code",
   "execution_count": null,
   "id": "1e0cedf2",
   "metadata": {},
   "outputs": [
    {
     "data": {
      "text/plain": [
       "-1"
      ]
     },
     "execution_count": 1,
     "metadata": {},
     "output_type": "execute_result"
    }
   ],
   "source": [
    "# Linear Search\n",
    "# Brute Force\n",
    "\n",
    "\n",
    "def linear_search(arr, item):\n",
    "    for i in range(len(arr)):\n",
    "        if arr[i] == item:\n",
    "            return i\n",
    "\n",
    "    return -1\n",
    "\n",
    "\n",
    "arr = [12, 34, 56, 1, 67, 100, 47, 99]\n",
    "linear_search(arr, 121)"
   ]
  },
  {
   "cell_type": "code",
   "execution_count": 4,
   "id": "10796b9d",
   "metadata": {},
   "outputs": [
    {
     "name": "stdout",
     "output_type": "stream",
     "text": [
      "3\n"
     ]
    }
   ],
   "source": [
    "# Binary Search\n",
    "# Sorted Array\n",
    "\n",
    "# recurssion way\n",
    "def binary_search(arr, low, high, item):\n",
    "\n",
    "    if low <= high:\n",
    "        # search\n",
    "        mid = (low + high) // 2\n",
    "\n",
    "        # print(\"mid value is\",arr[mid])\n",
    "        if arr[mid] == item:\n",
    "            return mid\n",
    "        elif arr[mid] > item:\n",
    "            return binary_search(arr, low, mid - 1, item)\n",
    "        else:\n",
    "            return binary_search(arr, mid + 1, high, item)\n",
    "    else:\n",
    "        return -1\n",
    "    \n",
    "\n",
    "arr = [12,24,35,46,57,68,80,99,100]\n",
    "print(binary_search(arr,0,len(arr)-1,46))"
   ]
  },
  {
   "cell_type": "code",
   "execution_count": null,
   "id": "cf2b46cf",
   "metadata": {},
   "outputs": [
    {
     "data": {
      "text/plain": [
       "False"
      ]
     },
     "execution_count": 3,
     "metadata": {},
     "output_type": "execute_result"
    }
   ],
   "source": [
    "# Sorting\n",
    "\n",
    "def is_sorted(arr):\n",
    "    sorted = True\n",
    "\n",
    "    for i in range(len(arr) - 1):\n",
    "        if arr[i] > arr[i + 1]:\n",
    "            sorted = False\n",
    "\n",
    "    return sorted\n",
    "\n",
    "arr = [1,2,3,4,8,6]\n",
    "is_sorted(arr)"
   ]
  },
  {
   "cell_type": "code",
   "execution_count": null,
   "id": "811cbc73",
   "metadata": {},
   "outputs": [
    {
     "data": {
      "text/plain": [
       "[2, 4, 1, 3]"
      ]
     },
     "execution_count": 6,
     "metadata": {},
     "output_type": "execute_result"
    }
   ],
   "source": [
    "# Monkey sort\n",
    "a=[1,2,3,4]\n",
    "random.shuffle(a)\n",
    "a"
   ]
  },
  {
   "cell_type": "code",
   "execution_count": 12,
   "id": "c2e04a71",
   "metadata": {},
   "outputs": [
    {
     "name": "stdout",
     "output_type": "stream",
     "text": [
      "[56, 11, 12, 24]\n",
      "[11, 12, 56, 24]\n",
      "[11, 24, 12, 56]\n",
      "[24, 56, 12, 11]\n",
      "[56, 24, 11, 12]\n",
      "[11, 24, 56, 12]\n",
      "[12, 56, 24, 11]\n",
      "[24, 11, 56, 12]\n",
      "[56, 24, 11, 12]\n",
      "[56, 24, 11, 12]\n",
      "[56, 11, 12, 24]\n",
      "[24, 11, 12, 56]\n",
      "[24, 11, 12, 56]\n",
      "[12, 11, 56, 24]\n",
      "[12, 56, 11, 24]\n",
      "[24, 12, 11, 56]\n",
      "[12, 24, 11, 56]\n",
      "[56, 24, 12, 11]\n",
      "[24, 12, 56, 11]\n",
      "[24, 11, 56, 12]\n",
      "[11, 12, 24, 56]\n",
      "[11, 12, 24, 56]\n"
     ]
    }
   ],
   "source": [
    "def monkey_sort(arr):\n",
    "    while not is_sorted(arr):\n",
    "        time.sleep(0.1)\n",
    "        random.shuffle(arr)\n",
    "        print(arr)\n",
    "    print(arr)\n",
    "\n",
    "a = [12,24,11,56]\n",
    "monkey_sort(a)\n",
    "\n",
    "# time complexity - infinite -- beacuse its random"
   ]
  },
  {
   "cell_type": "code",
   "execution_count": null,
   "id": "9b033453",
   "metadata": {},
   "outputs": [
    {
     "data": {
      "text/plain": [
       "[1, 6, 11, 12, 23, 34, 56, 78, 99, 100, 321, 753]"
      ]
     },
     "execution_count": 3,
     "metadata": {},
     "output_type": "execute_result"
    }
   ],
   "source": [
    "# bubble sort\n",
    "def bubble_sort(arr):\n",
    "    for i in range(len(arr) - 1):\n",
    "        flag = 0\n",
    "        for j in range(len(arr) - 1 - i):\n",
    "            if arr[j] > arr[j + 1]:\n",
    "                arr[j], arr[j + 1] = arr[j + 1], arr[j]\n",
    "                flag = 1\n",
    "\n",
    "        if flag == 0:\n",
    "            break\n",
    "\n",
    "    return arr\n",
    "\n",
    "%timeit\n",
    "arr = [23,12,34,11,100,56,78,99,321,1,6,753]\n",
    "bubble_sort(arr)"
   ]
  },
  {
   "cell_type": "code",
   "execution_count": 1,
   "id": "37adea3c",
   "metadata": {},
   "outputs": [
    {
     "data": {
      "text/plain": [
       "[11, 12, 23, 34, 56, 78, 100]"
      ]
     },
     "execution_count": 1,
     "metadata": {},
     "output_type": "execute_result"
    }
   ],
   "source": [
    "# selection sort\n",
    "def selection_sort(arr):\n",
    "    for i in range(len(arr) - 1):\n",
    "        min = i\n",
    "\n",
    "        for j in range(i + 1, len(arr)):\n",
    "            if arr[j] < arr[min]:\n",
    "                min = j\n",
    "\n",
    "        arr[i], arr[min] = arr[min], arr[i]\n",
    "\n",
    "    return arr\n",
    "\n",
    "\n",
    "arr = [23,12,34,11,100,56,78]\n",
    "selection_sort(arr)"
   ]
  },
  {
   "cell_type": "code",
   "execution_count": null,
   "id": "e234f0e2",
   "metadata": {},
   "outputs": [],
   "source": [
    "# merge sort\n",
    "\n",
    "\n",
    "def merge_arrays(arr1, arr2):\n",
    "    i = 0\n",
    "    j = 0\n",
    "\n",
    "    merged = []\n",
    "\n",
    "    while i < len(arr1) and j < len(arr2):\n",
    "        if arr1[i] < arr2[j]:\n",
    "            merged.append(arr1[i])\n",
    "            i += 1\n",
    "        else:\n",
    "            merged.append(arr2[j])\n",
    "            j += 1\n",
    "\n",
    "    while i < len(arr1):\n",
    "        merged.append(arr1[i])\n",
    "        i += 1\n",
    "\n",
    "    while j < len(arr2):\n",
    "        merged.append(arr2[j])\n",
    "        j += 1\n",
    "\n",
    "    return merged\n",
    "\n",
    "\n",
    "def merge_sort(arr):\n",
    "\n",
    "    if len(arr) ==1:\n",
    "        return arr\n",
    "    \n",
    "    mid = len(arr) // 2\n",
    "\n",
    "    left = arr[:mid]\n",
    "    right = arr[mid:]\n",
    "\n",
    "    left = merge_sort(left)\n",
    "    right= merge_sort(right)\n",
    "\n",
    "    return merge_arrays(left, right)"
   ]
  },
  {
   "cell_type": "code",
   "execution_count": null,
   "id": "77687f86",
   "metadata": {},
   "outputs": [
    {
     "data": {
      "text/plain": [
       "[1,\n",
       " 3,\n",
       " 3,\n",
       " 4,\n",
       " 5,\n",
       " 7,\n",
       " 22,\n",
       " 43,\n",
       " 44,\n",
       " 53,\n",
       " 88,\n",
       " 242,\n",
       " 345,\n",
       " 346,\n",
       " 533,\n",
       " 634,\n",
       " 664,\n",
       " 3532,\n",
       " 5325,\n",
       " 6343]"
      ]
     },
     "execution_count": 21,
     "metadata": {},
     "output_type": "execute_result"
    }
   ],
   "source": [
    "# test\n",
    "arr1 =[1,2,4,5]\n",
    "arr2 = [3,4,7,8,9,10]\n",
    "merge_arrays(arr1, arr2)\n",
    "\n",
    "arr3 = [1,3,88,3,44,22,43,53,664,7,4,533,242,6343,346,345,3532,5325,5,634]\n",
    "merge_sort(arr3)"
   ]
  },
  {
   "cell_type": "code",
   "execution_count": null,
   "id": "456efe72",
   "metadata": {},
   "outputs": [],
   "source": [
    "# optimize for space complexity  -- inplace replace of exiting array  - new space complexiti - O(n)\n",
    "# merge sort\n",
    "\n",
    "\n",
    "def merge_arrays(arr1, arr2, arr):\n",
    "    i = 0\n",
    "    j = 0\n",
    "    k = 0\n",
    "\n",
    "    merged = []\n",
    "\n",
    "    while i < len(arr1) and j < len(arr2):\n",
    "        if arr1[i] < arr2[j]:\n",
    "            arr[k] = arr1[i]\n",
    "            i += 1\n",
    "        else:\n",
    "            arr[k] = arr2[j]\n",
    "            j += 1\n",
    "        k += 1\n",
    "\n",
    "    while i < len(arr1):\n",
    "        arr[k] = arr1[i]\n",
    "        i += 1\n",
    "\n",
    "    while j < len(arr2):\n",
    "        arr[k] = arr2[j]\n",
    "        j += 1\n",
    "        k += 1\n",
    "\n",
    "    return\n",
    "\n",
    "\n",
    "def merge_sort(arr):\n",
    "    if len(arr) == 1:\n",
    "        return arr\n",
    "\n",
    "    mid = len(arr) // 2\n",
    "\n",
    "    left = arr[:mid]\n",
    "    right = arr[mid:]\n",
    "\n",
    "    merge_sort(left)\n",
    "    merge_sort(right)\n",
    "\n",
    "    merge_arrays(left, right, arr)"
   ]
  },
  {
   "cell_type": "code",
   "execution_count": null,
   "id": "fff551e5",
   "metadata": {},
   "outputs": [
    {
     "name": "stdout",
     "output_type": "stream",
     "text": [
      "[1, 3, 3, 4, 5, 7, 22, 43, 44, 53, 88, 242, 345, 346, 533, 634, 664, 3532, 5325, 6343]\n"
     ]
    }
   ],
   "source": [
    "# test\n",
    "arr3 = [1,3,88,3,44,22,43,53,664,7,4,533,242,6343,346,345,3532,5325,5,634]\n",
    "merge_sort(arr3)\n",
    "print(arr3)"
   ]
  },
  {
   "cell_type": "code",
   "execution_count": null,
   "id": "cdcae47e",
   "metadata": {},
   "outputs": [],
   "source": [
    "# added quick sort\n",
    "\n",
    "def quick_sort(arr,low,high):\n",
    "\n",
    "  if len(arr) == 1:\n",
    "    return arr\n",
    "\n",
    "  if low < high:\n",
    "\n",
    "    pi = partition(arr,low,high)\n",
    "\n",
    "    quick_sort(arr,low,pi-1)\n",
    "    quick_sort(arr,pi+1,high)\n",
    "\n",
    "\n",
    "def partition(arr,low,high):\n",
    "\n",
    "  i = low - 1\n",
    "  pivot = arr[high]\n",
    "\n",
    "  for j in range(low,high):\n",
    "\n",
    "    if arr[j] <= pivot:\n",
    "      i+=1\n",
    "      arr[i],arr[j] = arr[j],arr[i]\n",
    "  arr[i+1],arr[high] = arr[high],arr[i+1]\n",
    "\n",
    "  return i+1"
   ]
  },
  {
   "cell_type": "code",
   "execution_count": null,
   "id": "80153bc7",
   "metadata": {},
   "outputs": [],
   "source": [
    "# test\n",
    "arr = [10, 7, 8, 9, 1, 5] \n",
    "n = len(arr) \n",
    "quick_sort(arr, 0, n-1)\n",
    "print(arr)\n",
    "     "
   ]
  }
 ],
 "metadata": {
  "kernelspec": {
   "display_name": ".venv",
   "language": "python",
   "name": "python3"
  },
  "language_info": {
   "codemirror_mode": {
    "name": "ipython",
    "version": 3
   },
   "file_extension": ".py",
   "mimetype": "text/x-python",
   "name": "python",
   "nbconvert_exporter": "python",
   "pygments_lexer": "ipython3",
   "version": "3.12.1"
  }
 },
 "nbformat": 4,
 "nbformat_minor": 5
}
