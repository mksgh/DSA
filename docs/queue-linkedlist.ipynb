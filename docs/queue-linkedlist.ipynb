{
 "cells": [
  {
   "cell_type": "code",
   "execution_count": 2,
   "id": "79a68edb",
   "metadata": {},
   "outputs": [],
   "source": [
    "\n",
    "class Node:\n",
    "\n",
    "  def __init__(self,value):\n",
    "\n",
    "    self.data = value\n",
    "    self.next = None"
   ]
  },
  {
   "cell_type": "code",
   "execution_count": 4,
   "id": "341a0347",
   "metadata": {},
   "outputs": [],
   "source": [
    "class Node:\n",
    "    def __init__(self, value):\n",
    "        self.data = value\n",
    "        self.next = None\n",
    "\n",
    "\n",
    "class Queue:\n",
    "    def __init__(self):\n",
    "        self.front = None\n",
    "        self.rear = None\n",
    "\n",
    "    def enqueue(self, value):\n",
    "        new_node = Node(value)\n",
    "\n",
    "        if self.front == None:\n",
    "            self.front = new_node\n",
    "            self.rear = new_node\n",
    "\n",
    "        else:\n",
    "            self.rear.next = new_node\n",
    "            self.rear = new_node\n",
    "\n",
    "    def dequeue(self):\n",
    "        if self.front == None:\n",
    "            return \"Queue empty\"\n",
    "        else:\n",
    "            self.front = self.front.next\n",
    "\n",
    "    def is_empty(self):\n",
    "        return self.front == None\n",
    "\n",
    "    def front_item(self):\n",
    "        if not self.is_empty():\n",
    "            return self.front.data\n",
    "        else:\n",
    "            return \"Empty queue\"\n",
    "\n",
    "    def rear_item(self):\n",
    "        if not self.is_empty():\n",
    "            return self.rear.data\n",
    "        else:\n",
    "            return \"Empty queue\"\n",
    "\n",
    "    def traverse(self):\n",
    "        temp = self.front\n",
    "\n",
    "        while temp is not None:\n",
    "            print(temp.data, end=\" \")\n",
    "            temp = temp.next"
   ]
  },
  {
   "cell_type": "markdown",
   "id": "87cf7010",
   "metadata": {},
   "source": [
    "### Test"
   ]
  },
  {
   "cell_type": "code",
   "execution_count": 7,
   "id": "ee620ec7",
   "metadata": {},
   "outputs": [
    {
     "name": "stdout",
     "output_type": "stream",
     "text": [
      "3 4 5 7 "
     ]
    }
   ],
   "source": [
    "q = Queue()\n",
    "\n",
    "\n",
    "q.enqueue(3)\n",
    "q.enqueue(4)\n",
    "q.enqueue(5)\n",
    "q.enqueue(7)\n",
    "\n",
    "\n",
    "q.traverse()\n",
    "q.dequeue()"
   ]
  },
  {
   "cell_type": "code",
   "execution_count": 9,
   "id": "ce467d8c",
   "metadata": {},
   "outputs": [],
   "source": [
    "\n",
    "\"Queue empty\"\n",
    "\n",
    "q.enqueue(8)\n",
    "\n",
    "q.is_empty()\n",
    "\n",
    "False\n",
    "\n",
    "q.front_item()\n",
    "\n",
    "4\n",
    "\n",
    "q.rear_item()\n",
    "\n",
    "7\n",
    "\n",
    "q.dequeue()\n",
    "\n",
    "\n",
    "\n"
   ]
  }
 ],
 "metadata": {
  "kernelspec": {
   "display_name": ".venv",
   "language": "python",
   "name": "python3"
  },
  "language_info": {
   "codemirror_mode": {
    "name": "ipython",
    "version": 3
   },
   "file_extension": ".py",
   "mimetype": "text/x-python",
   "name": "python",
   "nbconvert_exporter": "python",
   "pygments_lexer": "ipython3",
   "version": "3.12.1"
  }
 },
 "nbformat": 4,
 "nbformat_minor": 5
}
