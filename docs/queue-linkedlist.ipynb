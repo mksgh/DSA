{
 "cells": [
  {
   "cell_type": "code",
   "execution_count": null,
   "id": "79a68edb",
   "metadata": {},
   "outputs": [],
   "source": [
    "\n",
    "class Node:\n",
    "\n",
    "  def __init__(self,value):\n",
    "\n",
    "    self.data = value\n",
    "    self.next = None"
   ]
  },
  {
   "cell_type": "code",
   "execution_count": null,
   "id": "341a0347",
   "metadata": {},
   "outputs": [],
   "source": [
    "class Node:\n",
    "    def __init__(self, value):\n",
    "        self.data = value\n",
    "        self.next = None\n",
    "\n",
    "\n",
    "class Queue:\n",
    "    def __init__(self):\n",
    "        self.front = None\n",
    "        self.rear = None\n",
    "\n",
    "    def enqueue(self, value):\n",
    "        new_node = Node(value)\n",
    "\n",
    "        if self.front == None:\n",
    "            self.front = new_node\n",
    "            self.rear = new_node\n",
    "\n",
    "        else:\n",
    "            self.rear.next = new_node\n",
    "            self.rear = new_node\n",
    "\n",
    "    def dequeue(self):\n",
    "        if self.front == None:\n",
    "            return \"Queue empty\"\n",
    "        else:\n",
    "            self.front = self.front.next\n",
    "\n",
    "    def is_empty(self):\n",
    "        return self.front == None\n",
    "\n",
    "    def front_item(self):\n",
    "        if not self.is_empty():\n",
    "            return self.front.data\n",
    "        else:\n",
    "            return \"Empty queue\"\n",
    "\n",
    "    def rear_item(self):\n",
    "        if not self.is_empty():\n",
    "            return self.rear.data\n",
    "        else:\n",
    "            return \"Empty queue\"\n",
    "\n",
    "    def traverse(self):\n",
    "        temp = self.front\n",
    "\n",
    "        while temp is not None:\n",
    "            print(temp.data, end=\" \")\n",
    "            temp = temp.next"
   ]
  },
  {
   "cell_type": "code",
   "execution_count": null,
   "id": "ce467d8c",
   "metadata": {},
   "outputs": [],
   "source": []
  }
 ],
 "metadata": {
  "language_info": {
   "name": "python"
  }
 },
 "nbformat": 4,
 "nbformat_minor": 5
}
