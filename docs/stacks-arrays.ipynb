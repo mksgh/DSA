{
 "cells": [
  {
   "cell_type": "code",
   "execution_count": null,
   "id": "2e759603",
   "metadata": {},
   "outputs": [],
   "source": [
    "# assuming pylist behavior as array\n",
    "class Stack:\n",
    "    def __init__(self, size):\n",
    "        self.size = size\n",
    "        self.__stack = [None] * self.size # private class\n",
    "        self.top = -1\n",
    "\n",
    "    def push(self, value):\n",
    "        if self.top == self.size - 1:\n",
    "            return \"Overflow\"\n",
    "        else:\n",
    "            self.top += 1\n",
    "            self.stack[self.top] = value\n",
    "\n",
    "    def pop(self):\n",
    "        if self.top == -1:\n",
    "            return \"Empty\"\n",
    "        else:\n",
    "            data = self.stack[self.top]\n",
    "            self.top -= 1\n",
    "            print(data)\n",
    "\n",
    "    def traverse(self):\n",
    "        for i in range(self.top + 1):\n",
    "            print(self.stack[i], end=\" \")"
   ]
  },
  {
   "cell_type": "markdown",
   "id": "c3390287",
   "metadata": {},
   "source": [
    "### Test\n"
   ]
  },
  {
   "cell_type": "code",
   "execution_count": 14,
   "id": "6dd6f9de",
   "metadata": {},
   "outputs": [
    {
     "ename": "AttributeError",
     "evalue": "'Stack' object has no attribute 'stack'",
     "output_type": "error",
     "traceback": [
      "\u001b[31m---------------------------------------------------------------------------\u001b[39m",
      "\u001b[31mAttributeError\u001b[39m                            Traceback (most recent call last)",
      "\u001b[36mCell\u001b[39m\u001b[36m \u001b[39m\u001b[32mIn[14]\u001b[39m\u001b[32m, line 2\u001b[39m\n\u001b[32m      1\u001b[39m s = Stack(\u001b[32m3\u001b[39m)\n\u001b[32m----> \u001b[39m\u001b[32m2\u001b[39m \u001b[43ms\u001b[49m\u001b[43m.\u001b[49m\u001b[43mpush\u001b[49m\u001b[43m(\u001b[49m\u001b[32;43m4\u001b[39;49m\u001b[43m)\u001b[49m\n\u001b[32m      3\u001b[39m s.push(\u001b[32m5\u001b[39m)\n\u001b[32m      4\u001b[39m s.push(\u001b[32m6\u001b[39m)\n",
      "\u001b[36mCell\u001b[39m\u001b[36m \u001b[39m\u001b[32mIn[13]\u001b[39m\u001b[32m, line 13\u001b[39m, in \u001b[36mStack.push\u001b[39m\u001b[34m(self, value)\u001b[39m\n\u001b[32m     11\u001b[39m \u001b[38;5;28;01melse\u001b[39;00m:\n\u001b[32m     12\u001b[39m     \u001b[38;5;28mself\u001b[39m.top += \u001b[32m1\u001b[39m\n\u001b[32m---> \u001b[39m\u001b[32m13\u001b[39m     \u001b[38;5;28;43mself\u001b[39;49m\u001b[43m.\u001b[49m\u001b[43mstack\u001b[49m[\u001b[38;5;28mself\u001b[39m.top] = value\n",
      "\u001b[31mAttributeError\u001b[39m: 'Stack' object has no attribute 'stack'"
     ]
    }
   ],
   "source": [
    "s = Stack(3)\n",
    "s.push(4)\n",
    "s.push(5)\n",
    "s.push(6)\n",
    "s.traverse()\n",
    "s.push(7)\n",
    "s.pop()\n",
    "s.pop()\n",
    "s.pop()\n",
    "s.pop()\n",
    "s.traverse()\n",
    "s.push(5)"
   ]
  }
 ],
 "metadata": {
  "kernelspec": {
   "display_name": ".venv",
   "language": "python",
   "name": "python3"
  },
  "language_info": {
   "codemirror_mode": {
    "name": "ipython",
    "version": 3
   },
   "file_extension": ".py",
   "mimetype": "text/x-python",
   "name": "python",
   "nbconvert_exporter": "python",
   "pygments_lexer": "ipython3",
   "version": "3.12.1"
  }
 },
 "nbformat": 4,
 "nbformat_minor": 5
}
