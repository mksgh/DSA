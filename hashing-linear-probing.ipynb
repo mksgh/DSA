{
 "cells": [
  {
   "cell_type": "code",
   "execution_count": null,
   "id": "d0bbdab4",
   "metadata": {},
   "outputs": [],
   "source": [
    "# import\n",
    "import sys\n",
    "import ctypes"
   ]
  },
  {
   "cell_type": "code",
   "execution_count": 14,
   "id": "b5f78f3d",
   "metadata": {},
   "outputs": [],
   "source": [
    "class Dictionary:\n",
    "    def __init__(self, size):\n",
    "        self.size = size\n",
    "        self.slots = [None] * self.size\n",
    "        self.data = [None] * self.size\n",
    "\n",
    "    def put(self, key, value):\n",
    "        hash_value = self.hash_function(key)\n",
    "\n",
    "        if self.slots[hash_value] == None:\n",
    "            self.slots[hash_value] = key\n",
    "            self.data[hash_value] = value\n",
    "\n",
    "        else:\n",
    "            if self.slots[hash_value] == key:\n",
    "                self.data[hash_value] = value\n",
    "            else:\n",
    "                new_hash_value = self.rehash(hash_value)\n",
    "\n",
    "                while (\n",
    "                    self.slots[new_hash_value] != None\n",
    "                    and self.slots[new_hash_value] != key\n",
    "                ):\n",
    "                    new_hash_value = self.rehash(new_hash_value)\n",
    "\n",
    "                if self.slots[new_hash_value] == None:\n",
    "                    self.slots[new_hash_value] = key\n",
    "                    self.data[new_hash_value] = value\n",
    "                else:\n",
    "                    self.data[new_hash_value] = value\n",
    "\n",
    "    def get(self, key):\n",
    "        start_position = self.hash_function(key)\n",
    "        current_position = start_position\n",
    "\n",
    "        while self.slots[current_position] != None:\n",
    "            if self.slots[current_position] == key:\n",
    "                return self.data[current_position]\n",
    "\n",
    "            current_position = self.rehash(current_position)\n",
    "\n",
    "            if current_position == start_position:\n",
    "                return \"Not Found\"\n",
    "\n",
    "        return \"None - Not Found\"\n",
    "\n",
    "    def __str__(self):\n",
    "        for i in range(len(self.slots)):\n",
    "            if self.slots[i] != None:\n",
    "                print(self.slots[i], \":\", self.data[i], end=\" \")\n",
    "        return \"\"\n",
    "\n",
    "    def __getitem__(self, key):\n",
    "        return self.get(key)\n",
    "\n",
    "    def __setitem__(self, key, value):\n",
    "        self.put(key, value)\n",
    "\n",
    "    def rehash(self, old_hash):\n",
    "        return (old_hash + 1) % self.size\n",
    "\n",
    "    def hash_function(self, key):\n",
    "        return abs(hash(key)) % self.size\n"
   ]
  },
  {
   "cell_type": "markdown",
   "id": "57b3aaa5",
   "metadata": {},
   "source": [
    "### Test"
   ]
  },
  {
   "cell_type": "code",
   "execution_count": 23,
   "id": "22025d50",
   "metadata": {},
   "outputs": [
    {
     "name": "stdout",
     "output_type": "stream",
     "text": [
      "[None, None, None]\n",
      "[None, None, None]\n",
      "php : 6 c : 1000 python : 56 \n",
      "php : 43 c : 1000 python : 56 \n",
      "php : 43 c : 976 python : 56 \n"
     ]
    }
   ],
   "source": [
    "D1 = Dictionary(3)\n",
    "print(D1.slots)\n",
    "print(D1.data)\n",
    "\n",
    "D1['python'] = 56\n",
    "D1['c'] = 1000 \n",
    "D1[\"php\"] = 6\n",
    "\n",
    "print(D1)\n",
    "\n",
    "D1.put(\"php\",43)\n",
    "print(D1)\n",
    "\n",
    "\n",
    "D1['c'] = 976\n",
    "print(D1)"
   ]
  },
  {
   "cell_type": "code",
   "execution_count": 24,
   "id": "562d07c5",
   "metadata": {},
   "outputs": [
    {
     "name": "stdout",
     "output_type": "stream",
     "text": [
      "Not Found\n"
     ]
    },
    {
     "data": {
      "text/plain": [
       "'None - Not Found'"
      ]
     },
     "execution_count": 24,
     "metadata": {},
     "output_type": "execute_result"
    }
   ],
   "source": [
    "print(D1.get(\"t\"))\n",
    "D1 = Dictionary(3)\n",
    "D1.get(\"t\")"
   ]
  },
  {
   "cell_type": "code",
   "execution_count": null,
   "id": "b26f4886",
   "metadata": {},
   "outputs": [
    {
     "ename": "KeyboardInterrupt",
     "evalue": "",
     "output_type": "error",
     "traceback": [
      "\u001b[31m---------------------------------------------------------------------------\u001b[39m",
      "\u001b[31mKeyboardInterrupt\u001b[39m                         Traceback (most recent call last)",
      "\u001b[36mCell\u001b[39m\u001b[36m \u001b[39m\u001b[32mIn[10]\u001b[39m\u001b[32m, line 2\u001b[39m\n\u001b[32m      1\u001b[39m \u001b[38;5;66;03m# failcase -- infinite loop\u001b[39;00m\n\u001b[32m----> \u001b[39m\u001b[32m2\u001b[39m \u001b[43mD1\u001b[49m\u001b[43m.\u001b[49m\u001b[43mput\u001b[49m\u001b[43m(\u001b[49m\u001b[33;43m\"\u001b[39;49m\u001b[33;43my\u001b[39;49m\u001b[33;43m\"\u001b[39;49m\u001b[43m,\u001b[49m\u001b[32;43m43\u001b[39;49m\u001b[43m)\u001b[49m\n",
      "\u001b[36mCell\u001b[39m\u001b[36m \u001b[39m\u001b[32mIn[2]\u001b[39m\u001b[32m, line 22\u001b[39m, in \u001b[36mDictionary.put\u001b[39m\u001b[34m(self, key, value)\u001b[39m\n\u001b[32m     19\u001b[39m \u001b[38;5;28;01melse\u001b[39;00m:\n\u001b[32m     20\u001b[39m   new_hash_value = \u001b[38;5;28mself\u001b[39m.rehash(hash_value)\n\u001b[32m---> \u001b[39m\u001b[32m22\u001b[39m   \u001b[38;5;28;01mwhile\u001b[39;00m \u001b[38;5;28mself\u001b[39m.slots[new_hash_value] != \u001b[38;5;28;01mNone\u001b[39;00m \u001b[38;5;129;01mand\u001b[39;00m \u001b[38;5;28mself\u001b[39m.slots[new_hash_value] != key:\n\u001b[32m     23\u001b[39m     new_hash_value = \u001b[38;5;28mself\u001b[39m.rehash(new_hash_value)\n\u001b[32m     25\u001b[39m   \u001b[38;5;28;01mif\u001b[39;00m \u001b[38;5;28mself\u001b[39m.slots[new_hash_value] == \u001b[38;5;28;01mNone\u001b[39;00m:\n",
      "\u001b[31mKeyboardInterrupt\u001b[39m: "
     ]
    }
   ],
   "source": [
    "# failcase -- infinite loop\n",
    "D1.put(\"y\",43)"
   ]
  },
  {
   "cell_type": "code",
   "execution_count": 32,
   "id": "1249cab1",
   "metadata": {},
   "outputs": [],
   "source": [
    "p = {}\n",
    "p['r'] = 9\n",
    "p[(9,3,4)] = 96"
   ]
  },
  {
   "cell_type": "code",
   "execution_count": null,
   "id": "7dfcfbca",
   "metadata": {},
   "outputs": [],
   "source": [
    "\n",
    "hash(123)\n",
    "     \n",
    "123\n",
    "\n",
    "abs(hash(\"python\")) % 5\n",
    "     \n",
    "1\n",
    "\n",
    "hash(1.5)\n",
    "     \n",
    "1152921504606846977\n",
    "\n",
    "hash((1,2,3))\n",
    "     \n",
    "2528502973977326415\n",
    "\n",
    "D1 = Dictionary(3)\n",
    "     \n",
    "\n",
    "print(D1.slots)\n",
    "print(D1.data)\n",
    "     \n",
    "[None, None, None]\n",
    "[None, None, None]\n",
    "\n",
    "D1['python'] = 56\n",
    "     \n",
    "\n",
    "D1['c'] = 1000\n",
    "     \n",
    "\n",
    "D1[\"dtjtr\"]\n",
    "     \n",
    "'None wala Not Found'\n",
    "\n",
    "print(D1)\n",
    "     \n",
    "c : 1000 python : 56 \n",
    "\n",
    "D1[[1,2,3]] = \"Hello\"\n",
    "     \n",
    "\n",
    "     "
   ]
  }
 ],
 "metadata": {
  "kernelspec": {
   "display_name": ".venv",
   "language": "python",
   "name": "python3"
  },
  "language_info": {
   "codemirror_mode": {
    "name": "ipython",
    "version": 3
   },
   "file_extension": ".py",
   "mimetype": "text/x-python",
   "name": "python",
   "nbconvert_exporter": "python",
   "pygments_lexer": "ipython3",
   "version": "3.12.1"
  }
 },
 "nbformat": 4,
 "nbformat_minor": 5
}
